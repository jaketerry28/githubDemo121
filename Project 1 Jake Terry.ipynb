{
 "cells": [
  {
   "cell_type": "markdown",
   "id": "bc412faa",
   "metadata": {},
   "source": [
    "### Name: Jake Terry"
   ]
  },
  {
   "cell_type": "markdown",
   "id": "22511249-ee38-4664-9ae8-31555222a1a4",
   "metadata": {},
   "source": [
    "# CS 120:  Project 1 (100 points) DUE:  9/13 11:59 PM"
   ]
  },
  {
   "cell_type": "markdown",
   "id": "230f0bfd",
   "metadata": {},
   "source": [
    "## Part 1 (60 points)\n",
    "### Pig Latin \n",
    "\n",
    "#### Write a program to translate an English word or words into Pig Latin\n",
    "1. You will read the word or words in from the console.\n",
    "2. Translate the word or words into pig latin.\n",
    "3. Write code in the cells below.\n",
    "4. Be sure to follow good coding practices when writing code.\n",
    "5. Comment every line of code for full credit.\n",
    "6. Follow the rules for pig latin as outlined here.\n",
    "\n",
    "### Rules for Pig Latin\n",
    "If the word starts with a consonant (not a,e,i,o,u), move the letter to the back of the word and append an ‘ay’ to the end.  \n",
    "Examples:  \n",
    "Computer -> omputercay  \n",
    "desk -> eskday  \n",
    "pencil ->encilpay  \n",
    "\n",
    "If the word starts with a vowel, add ‘yay’ to the end of the word.  \n",
    "Examples:  \n",
    "Iowa -> iowayay  \n",
    "example -> exampleyay  \n",
    "unless -> unlessyay  \n",
    "\n",
    "If the word starts with two consonants, move both consonants to the back of the word and append an ‘ay’ to the end.  \n",
    "Example:  \n",
    "blend -> endblay  \n",
    "Scale -> alescay  \n",
    "truck -> ucktray  \n",
    "\n",
    "If the word starts with three consonants, move the set of consonants to the back of the word and append an ‘ay’ to the end.  \n",
    "Example:  \n",
    "scratch -> atchscray  \n",
    "school -> oolschay  \n",
    "shrimp -> impshray  \n",
    "through -> oughthray  "
   ]
  },
  {
   "cell_type": "code",
   "execution_count": 3,
   "id": "6d543fa3-fc8f-4778-8058-c0718eb1ce66",
   "metadata": {},
   "outputs": [
    {
     "name": "stdin",
     "output_type": "stream",
     "text": [
      "Type one word you would like translated into Pig Latin or type \"0\" to quit.\n",
      "\n",
      " blend\n"
     ]
    },
    {
     "name": "stdout",
     "output_type": "stream",
     "text": [
      "\n",
      "blend -> endblay\n",
      "\n"
     ]
    },
    {
     "name": "stdin",
     "output_type": "stream",
     "text": [
      "Type one word you would like translated into Pig Latin or type \"0\" to quit.\n",
      "\n",
      " quit\n"
     ]
    },
    {
     "name": "stdout",
     "output_type": "stream",
     "text": [
      "\n",
      "quit -> uitqay\n",
      "\n"
     ]
    },
    {
     "name": "stdin",
     "output_type": "stream",
     "text": [
      "Type one word you would like translated into Pig Latin or type \"0\" to quit.\n",
      "\n",
      " 0\n"
     ]
    },
    {
     "name": "stdout",
     "output_type": "stream",
     "text": [
      "\n",
      "Quitting.\n",
      "\n"
     ]
    }
   ],
   "source": [
    "vowel = \"aeiouAEIOU\" # used to compare myString to\n",
    "\n",
    "translate = True # to continuously run code until quit\n",
    "\n",
    "while translate: # while translate is true run this code block\n",
    "    count = 0  # starts a counter to count the letters in a string; counter at beginning of while loop to reset for each word\n",
    "    word = input('Type one word you would like translated into Pig Latin or type \"0\" to quit.\\n\\n') # prompt user for input\n",
    "    original = word # stores the input in a variable that wont be changed\n",
    "    print() # new line for readability\n",
    "    \n",
    "    if word == '0': # if user chooses to quit...\n",
    "        print(f'Quitting.\\n') # print out quitting\n",
    "        translate = False # set translate to false to stop while loop\n",
    "    elif word[0] in vowel: # if the first letter in the word is a vowel...\n",
    "        word = word + 'yay' # word is reassigned to a concatenation with 'yay'\n",
    "        print(f'{original} -> {word}\\n') # print the translated word\n",
    "    else: # if the word does not start with a vowel...\n",
    "       for letter in word: # check each letter of the word\n",
    "           count += 1 # adds 1 to the counter for each letter until a vowel is found\n",
    "           if letter in vowel: # once a vowel is found, start this conditional\n",
    "               word = word[count -1:] + word[:count - 1] + 'ay' # uses the counter to locate where to concatenate the word\n",
    "               print(f'{original} -> {word}\\n') # print the word\n",
    "               break # break the conditional because it no longer needs to continue looping through the word"
   ]
  },
  {
   "cell_type": "code",
   "execution_count": 6,
   "id": "14f8742a-c8db-446b-8a52-ebf8ab8ed876",
   "metadata": {},
   "outputs": [],
   "source": [
    "# Part 2 (40 points)"
   ]
  },
  {
   "cell_type": "markdown",
   "id": "2069ef66-15ac-41ae-a40b-b07a81a0b890",
   "metadata": {},
   "source": [
    "### Fibonacci Numbers\n",
    "\n",
    "Fill a list with the first n fibonacci numbers.\n",
    "1. Prompt the user for a number less than 100.\n",
    "2. Generate the first n Fibonacci numbers.  \n",
    "3. The fibonacci sequence is as follows 0, 1, 1, 2, 3, ... where the next value in the sequence is the sum of the previous two.\n",
    "4. Store the values in a list.\n",
    "5. Print out the list.\n",
    "6. Print out the last value in the list.\n",
    "7. Make sure to use good coding practices when writing code.\n",
    "8. Comment every line of your code."
   ]
  },
  {
   "cell_type": "code",
   "execution_count": 9,
   "id": "d87eb8cb-31ca-41d3-aaf7-308ef8fc15f5",
   "metadata": {},
   "outputs": [
    {
     "name": "stdin",
     "output_type": "stream",
     "text": [
      "Pick a number between 1-99:\n",
      "\n",
      " 9\n"
     ]
    },
    {
     "name": "stdout",
     "output_type": "stream",
     "text": [
      "\n",
      "Number      Fibonacci Value\n",
      "----------------------------\n",
      "0           0           \n",
      "1           1           \n",
      "2           1           \n",
      "3           2           \n",
      "4           3           \n",
      "5           5           \n",
      "6           8           \n",
      "7           13          \n",
      "8           21          \n",
      "9           34          \n",
      "\n",
      "The last number of the sequence is 34\n"
     ]
    }
   ],
   "source": [
    "# Here is the program without using a list.\n",
    "\n",
    "num0, num1 = 0, 1 # assign the first two values of the fibonacci sequence\n",
    "\n",
    "done = False # for creating a repeating while loop\n",
    "\n",
    "while done == False: # while false run this code block\n",
    "    number = int(input('Pick a number between 1-99:\\n\\n')) # prompts user for an integer\n",
    "    print() # new line for readability\n",
    "    if number < 1 or number > 99: # if number is less than 0 or greater than 99...\n",
    "        print(f'Please enter a valid integer within the range.\\n') # tells user to reinput if value is out of range\n",
    "    else: # if number is between 1-99 inclusive\n",
    "        print(f'{\"Number\":<12}{\"Fibonacci Value\":^12}') # creates a format for the chart\n",
    "        print('-' * 28) # creates a bar\n",
    "        for i in range(number + 1): # iterates through the entire input range; +1 bc we start at 0\n",
    "            fib = num0 # assigns to num0 for printing output\n",
    "            formattedFib = f'{fib:,}'# formats the fibonacci value to include ',' for thousands\n",
    "            print(f'{i:<12}{formattedFib:<12}') # print out the number and its corresponding fibonacci value\n",
    "            prevNums = num0 + num1 # update value\n",
    "            num0 = num1 # update value\n",
    "            num1 = prevNums # update value\n",
    "        done = True # end loop\n",
    "\n",
    "print(f'\\nThe last number of the sequence is {formattedFib}') # print out the last number of the sequence on a separate line."
   ]
  },
  {
   "cell_type": "code",
   "execution_count": null,
   "id": "db4516bb-bae2-40d1-93e6-cc48a36c08c4",
   "metadata": {},
   "outputs": [],
   "source": []
  }
 ],
 "metadata": {
  "kernelspec": {
   "display_name": "Python 3 (ipykernel)",
   "language": "python",
   "name": "python3"
  },
  "language_info": {
   "codemirror_mode": {
    "name": "ipython",
    "version": 3
   },
   "file_extension": ".py",
   "mimetype": "text/x-python",
   "name": "python",
   "nbconvert_exporter": "python",
   "pygments_lexer": "ipython3",
   "version": "3.12.4"
  }
 },
 "nbformat": 4,
 "nbformat_minor": 5
}
